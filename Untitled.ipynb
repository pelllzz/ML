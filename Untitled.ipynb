{
 "cells": [
  {
   "cell_type": "markdown",
   "id": "4ad68143",
   "metadata": {},
   "source": [
    "* 정리는 대충 이런 식으로 해봅시다\n",
    "* 그 때 그 때 필요한 것들을 markdown으로 담아서 필요할 때 볼 수 있도록\n",
    "\n",
    "### sklearn.linear_model.LogisticRegression\n",
    " * class sklearn.linear_model.LogisticRegression(penalty='l2', *, dual=False, tol=0.0001, C=1.0, fit_intercept=True, intercept_scaling=1, class_weight=None, random_state=None, solver='lbfgs', max_iter=100, multi_class='auto', verbose=0, warm_start=False, n_jobs=None, l1_ratio=None)"
   ]
  },
  {
   "cell_type": "code",
   "execution_count": 1,
   "id": "a74fae0e",
   "metadata": {
    "ExecuteTime": {
     "end_time": "2022-06-29T02:30:06.306346Z",
     "start_time": "2022-06-29T02:30:05.536987Z"
    }
   },
   "outputs": [],
   "source": [
    "import sklearn"
   ]
  },
  {
   "cell_type": "code",
   "execution_count": 2,
   "id": "49e6dac4",
   "metadata": {
    "ExecuteTime": {
     "end_time": "2022-06-29T02:36:21.036631Z",
     "start_time": "2022-06-29T02:36:20.839474Z"
    }
   },
   "outputs": [],
   "source": [
    "from sklearn.datasets import load_iris\n",
    "from sklearn.linear_model import LogisticRegression"
   ]
  },
  {
   "cell_type": "code",
   "execution_count": 8,
   "id": "4f4970e2",
   "metadata": {
    "ExecuteTime": {
     "end_time": "2022-06-29T04:03:52.899552Z",
     "start_time": "2022-06-29T04:03:52.857192Z"
    }
   },
   "outputs": [
    {
     "name": "stderr",
     "output_type": "stream",
     "text": [
      "C:\\Users\\luck1\\AppData\\Local\\Programs\\Python\\Python310\\lib\\site-packages\\sklearn\\linear_model\\_logistic.py:444: ConvergenceWarning: lbfgs failed to converge (status=1):\n",
      "STOP: TOTAL NO. of ITERATIONS REACHED LIMIT.\n",
      "\n",
      "Increase the number of iterations (max_iter) or scale the data as shown in:\n",
      "    https://scikit-learn.org/stable/modules/preprocessing.html\n",
      "Please also refer to the documentation for alternative solver options:\n",
      "    https://scikit-learn.org/stable/modules/linear_model.html#logistic-regression\n",
      "  n_iter_i = _check_optimize_result(\n"
     ]
    },
    {
     "data": {
      "text/plain": [
       "array([0, 0])"
      ]
     },
     "execution_count": 8,
     "metadata": {},
     "output_type": "execute_result"
    }
   ],
   "source": [
    "X, y = load_iris(return_X_y=True)\n",
    "clf = LogisticRegression(random_state=0).fit(X, y)\n",
    "clf.predict(X[:2, :])"
   ]
  },
  {
   "cell_type": "code",
   "execution_count": 6,
   "id": "b7f16d67",
   "metadata": {
    "ExecuteTime": {
     "end_time": "2022-06-29T02:37:16.880527Z",
     "start_time": "2022-06-29T02:37:16.861978Z"
    }
   },
   "outputs": [
    {
     "data": {
      "text/plain": [
       "array([[9.81810819e-01, 1.81891663e-02, 1.44226885e-08],\n",
       "       [9.71750652e-01, 2.82493178e-02, 3.01583887e-08]])"
      ]
     },
     "execution_count": 6,
     "metadata": {},
     "output_type": "execute_result"
    }
   ],
   "source": [
    "clf.predict_proba(X[:2, :])"
   ]
  },
  {
   "cell_type": "code",
   "execution_count": 7,
   "id": "96be287b",
   "metadata": {
    "ExecuteTime": {
     "end_time": "2022-06-29T02:37:36.960175Z",
     "start_time": "2022-06-29T02:37:36.930930Z"
    }
   },
   "outputs": [
    {
     "data": {
      "text/plain": [
       "0.9733333333333334"
      ]
     },
     "execution_count": 7,
     "metadata": {},
     "output_type": "execute_result"
    }
   ],
   "source": [
    "clf.score(X, y)"
   ]
  }
 ],
 "metadata": {
  "kernelspec": {
   "display_name": "Python 3 (ipykernel)",
   "language": "python",
   "name": "python3"
  },
  "language_info": {
   "codemirror_mode": {
    "name": "ipython",
    "version": 3
   },
   "file_extension": ".py",
   "mimetype": "text/x-python",
   "name": "python",
   "nbconvert_exporter": "python",
   "pygments_lexer": "ipython3",
   "version": "3.10.4"
  },
  "toc": {
   "base_numbering": 1,
   "nav_menu": {},
   "number_sections": true,
   "sideBar": true,
   "skip_h1_title": false,
   "title_cell": "Table of Contents",
   "title_sidebar": "Contents",
   "toc_cell": false,
   "toc_position": {},
   "toc_section_display": true,
   "toc_window_display": false
  }
 },
 "nbformat": 4,
 "nbformat_minor": 5
}
