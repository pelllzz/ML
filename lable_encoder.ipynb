{
 "cells": [
  {
   "cell_type": "markdown",
   "metadata": {},
   "source": [
    "# sklearn.preprocessing.LabelEncoder\n",
    "* https://scikit-learn.org/stable/modules/generated/sklearn.preprocessing.LabelEncoder.html#sklearn.preprocessing.LabelEncoder\n",
    "* class sklearn.preprocessing.LabelEncoder\n",
    "* attributes : classes_ (Holds the label for each class)\n",
    "* methods : fit(y), fit_transform(y), get_params([deep]), inver_transform(v), set_params(**params), transform(y)"
   ]
  },
  {
   "cell_type": "code",
   "execution_count": 8,
   "metadata": {},
   "outputs": [],
   "source": [
    "from sklearn.preprocessing import LabelEncoder"
   ]
  },
  {
   "cell_type": "code",
   "execution_count": 9,
   "metadata": {},
   "outputs": [],
   "source": [
    "# feature\n",
    "items = ['TV','냉장고','전자레인지','컴퓨터','선풍기','선풍기','믹서','믹서']\n",
    "\n",
    "# 객체 선언하는 원리 자체는 sklearn.tree - DecisionTreeClassifier랑 다른 건 없는 것 같고\n",
    "encoder = LabelEncoder()\n",
    "\n",
    "# fit()으로 객체에 값들 담는 거로 보이고\n",
    "encoder.fit(items)\n",
    "\n",
    "# 담긴 값들로 레이블 인코딩을 해봅시다\n",
    "lables = encoder.transform(items)"
   ]
  },
  {
   "cell_type": "code",
   "execution_count": 10,
   "metadata": {},
   "outputs": [
    {
     "name": "stdout",
     "output_type": "stream",
     "text": [
      "인코딩 변환값:  [0 1 4 5 3 3 2 2]\n",
      "인코딩 클래스:  ['TV' '냉장고' '믹서' '선풍기' '전자레인지' '컴퓨터']\n",
      "디코딩 원본 값:  ['TV' '냉장고' '믹서' '선풍기' '전자레인지' '컴퓨터' '선풍기' '전자레인지' '전자레인지' '믹서' '냉장고'\n",
      " '컴퓨터']\n"
     ]
    }
   ],
   "source": [
    "# 이 녀석 무슨 규칙으로 라벨 뱉어주는 거지\n",
    "print('인코딩 변환값: ', lables)\n",
    "print('인코딩 클래스: ', encoder.classes_)\n",
    "print('디코딩 원본 값: ', encoder.inverse_transform([0,1,2,3,4,5,3,4,4,2,1,5]))"
   ]
  }
 ],
 "metadata": {
  "kernelspec": {
   "display_name": "Python 3.10.4 64-bit",
   "language": "python",
   "name": "python3"
  },
  "language_info": {
   "codemirror_mode": {
    "name": "ipython",
    "version": 3
   },
   "file_extension": ".py",
   "mimetype": "text/x-python",
   "name": "python",
   "nbconvert_exporter": "python",
   "pygments_lexer": "ipython3",
   "version": "3.10.4"
  },
  "orig_nbformat": 4,
  "vscode": {
   "interpreter": {
    "hash": "d45b7667f15187787b62e9d1c54e096de9a2222ecb594bc9f5d6366f2c4af4e5"
   }
  }
 },
 "nbformat": 4,
 "nbformat_minor": 2
}
